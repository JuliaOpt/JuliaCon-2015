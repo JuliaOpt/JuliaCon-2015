{
 "cells": [
  {
   "cell_type": "markdown",
   "metadata": {},
   "source": [
    "# Optimizing Code with JuMP\n",
    "\n",
    "Many linear algebra operations, like matrix-matrix multiply, can be written fairly simply as nested loops. However if this was literally translated into machine code then the performance you would obtain would be a fraction of what is possible. The reason is that modern CPUs are complex things, capable of running multiple instructions at a time with deep \"pipelines\" to take account of parallelism on a small scale.\n",
    "\n",
    "In this notebook we will develop a model to determine the optimal scheduling for a sequence of instructions so that the CPU can pipeline the operations to perform a calculation as fast as possible."
   ]
  },
  {
   "cell_type": "markdown",
   "metadata": {},
   "source": [
    "## Four-element dot product\n",
    "\n",
    "Consider a function that calculates the dot products of two four-element vectors. We will specify the **directed acyclic graph (DAG)** of operations that need to be performed, and then we will optimize the scheduling of the operations. For this function we will use the DAG\n",
    "\n",
    "```\n",
    "[-----]    [-----]     \n",
    "[  A  ]    [  E  ]      MUL  A E   --\\\n",
    "[-----]    [-----]                    ADD  --\\\n",
    "[  B  ]    [  F  ]      MUL  B F   --/        \\\n",
    "[-----] .* [-----]  =                          ADD\n",
    "[  C  ]    [  G  ]      MUL  C G   --\\        /\n",
    "[-----]    [-----]                    ADD  --/\n",
    "[  D  ]    [  H  ]      MUL  D H   --/\n",
    "[-----]    [-----] \n",
    "```\n",
    "\n",
    "From this we can see that, on a very \"parallel\" machine, all the MULs can be performed in parallel. Two of the ADDs can then be done together, but the final ADD can only run after everything else is done. The length of time for each operation can vary. For example, MUL might take 2 units of time, while ADD only takes 1.\n",
    "\n",
    "On a real machine we have some constraints. For this problem we will consider a CPU with the following restrictions and properties:\n",
    "* Only one operation can start at a time\n",
    "* ADD and MUL both take three units of time to run\n",
    "* Two ADDs and two MULs can be done at time"
   ]
  },
  {
   "cell_type": "markdown",
   "metadata": {},
   "source": [
    "## Modeling as an binary optimization problem\n",
    "\n",
    "We can pose this scheduling problem as a binary linear optimization problem. We will first fix a maximum time $T$, and create a binary variable for each of the operations $i$ and times $t$. If this variable has value 1 then we say that the operation starts at time $t$"
   ]
  },
  {
   "cell_type": "code",
   "execution_count": null,
   "metadata": {
    "collapsed": false
   },
   "outputs": [],
   "source": [
    "# Create our list of operations\n",
    "ops = [:MUL_AE, :MUL_BF, :MUL_CG, :MUL_DH, :ADD_ABEF, :ADD_CDGH, :ADD_ALL]\n",
    "# Max possible finishing time\n",
    "T = 20\n",
    "# Length of an instruction\n",
    "L = 3\n",
    "# Max instructions running at a time\n",
    "C = 2\n",
    "\n",
    "# Lets optimize!\n",
    "using JuMP\n",
    "\n",
    "#using Gurobi\n",
    "#m = Model(solver=GurobiSolver())\n",
    "m = Model()\n",
    "\n",
    "@defVar(m, startat[op=ops, t=1:T], Bin);"
   ]
  },
  {
   "cell_type": "markdown",
   "metadata": {},
   "source": [
    "We can immediately add some constraints on `startat` that have nothing to do with the dependency graph."
   ]
  },
  {
   "cell_type": "code",
   "execution_count": null,
   "metadata": {
    "collapsed": false
   },
   "outputs": [],
   "source": [
    "# Each operation should start once, and once only\n",
    "for op in ops\n",
    "    @addConstraint(m, sum{startat[op,t], t=1:T} == 1)\n",
    "end\n",
    "\n",
    "# At most one operation can start at each time\n",
    "for t in 1:T\n",
    "    @addConstraint(m, sum{startat[op,t], op=ops} <= 1)\n",
    "end\n",
    "\n",
    "# There will be multiple possible solutions, but lets\n",
    "# pin it down by fixing that the first MUL starts at\n",
    "# time 1\n",
    "@addConstraint(m, startat[:MUL_AE,1] == 1);"
   ]
  },
  {
   "cell_type": "markdown",
   "metadata": {},
   "source": [
    "Implementing precedence constraints is a little more tricky. Lets consider `ADD_ABEF`, which can only start after `MUL_AE` and `MUL_BF` have completed. Say we start `MUL_AE` at time 1, which will be done by time 4, and we start `MUL_BF` at time 2, which will be done by time 5. We can thus start the add at time 5 or later, or from another perspective, we cannot start the add unless both of the MULs were started at least 3 time units beforehand. We capture the \"at least\" by taking a sum over `start` for those operations across time, and enforce the relationship with a less-than-or-equal-to constraint."
   ]
  },
  {
   "cell_type": "code",
   "execution_count": null,
   "metadata": {
    "collapsed": false
   },
   "outputs": [],
   "source": [
    "# For each possible starting time for the dependent operations\n",
    "for t in 1:T-L\n",
    "    # ADD_ABEF cannot start until MUL_AE and MUL_BF finish\n",
    "    @addConstraint(m, startat[:ADD_ABEF,t] <= sum{startat[:MUL_AE,s], s=1:t-L})\n",
    "    @addConstraint(m, startat[:ADD_ABEF,t] <= sum{startat[:MUL_BF,s], s=1:t-L})\n",
    "    # ADD_CDGH cannot start until MUL_CG and MUL_DH finish\n",
    "    @addConstraint(m, startat[:ADD_CDGH,t] <= sum{startat[:MUL_CG,s], s=1:t-L})\n",
    "    @addConstraint(m, startat[:ADD_CDGH,t] <= sum{startat[:MUL_DH,s], s=1:t-L})\n",
    "    # ADD_ALL cannot start until ADD_ABEF and ADD_CDGH finish\n",
    "    @addConstraint(m, startat[:ADD_ALL,t] <= sum{startat[:ADD_ABEF,s], s=1:t-L})\n",
    "    @addConstraint(m, startat[:ADD_ALL,t] <= sum{startat[:ADD_CDGH,s], s=1:t-L})\n",
    "end"
   ]
  },
  {
   "cell_type": "markdown",
   "metadata": {},
   "source": [
    "We'll try to start the last operation as soon as possible. We can do that by creating a penalty proportional to the start time, i.e. the start time itself. Then lets try solving the model with what we've got!"
   ]
  },
  {
   "cell_type": "code",
   "execution_count": null,
   "metadata": {
    "collapsed": false,
    "scrolled": true
   },
   "outputs": [],
   "source": [
    "@setObjective(m, Min, sum{t*startat[:ADD_ALL,t],t=1:T})\n",
    "\n",
    "status = solve(m)\n",
    "@show status\n",
    "function pretty(op)\n",
    "    println(op)\n",
    "    for t in 1:T\n",
    "        if iround(getValue(startat[op,t])) == 1\n",
    "            print(\"S\")\n",
    "        else\n",
    "            print(\"_\")\n",
    "        end\n",
    "    end\n",
    "    println()\n",
    "end\n",
    "map(pretty, ops);"
   ]
  },
  {
   "cell_type": "markdown",
   "metadata": {},
   "source": [
    "We can see that the dependency is being respected, but we haven't modeled the other important constraint that we cannot run more than 2 MUL and 2 ADD at a time. Because of our problem we don't need to worry about the ADD as that never occurs, but we'll model it anyway for completeness.\n",
    "\n",
    "There are a few approaches we could use, but we'll address this by introducing a new variable `running` that will be 1 if an operation is still running at time $t$. To do so we'll need to link `start` and `running`, but the constraint limiting the number of things run is simple."
   ]
  },
  {
   "cell_type": "code",
   "execution_count": null,
   "metadata": {
    "collapsed": false
   },
   "outputs": [],
   "source": [
    "@defVar(m, running[op=ops,t=1:T], Bin)\n",
    "\n",
    "# Link running to startat\n",
    "for op in ops\n",
    "    # For each possible start time\n",
    "    for t in 1:T-L+1\n",
    "        # For the L units of time including that start time\n",
    "        for s in t:t+L-1\n",
    "            @addConstraint(m, running[op,s] >= startat[op,t])\n",
    "        end\n",
    "    end\n",
    "end\n",
    "\n",
    "# Can't do more than a certain number of ops at a time\n",
    "mul_ops = ops[1:4]\n",
    "add_ops = ops[5:7]\n",
    "for t in 1:T\n",
    "    # Multiplies\n",
    "    @addConstraint(m, sum{running[op,t],op=mul_ops} <= C)\n",
    "    # Adds\n",
    "    @addConstraint(m, sum{running[op,t],op=add_ops} <= C)\n",
    "end"
   ]
  },
  {
   "cell_type": "code",
   "execution_count": null,
   "metadata": {
    "collapsed": false
   },
   "outputs": [],
   "source": [
    "status = solve(m)\n",
    "@show status\n",
    "function pretty2(op)\n",
    "    print(rpad(op,10,\" \"))\n",
    "    for t in 1:T\n",
    "        if iround(getValue(startat[op,t])) == 1\n",
    "            print(\"S\")\n",
    "        elseif iround(getValue(running[op,t])) == 1\n",
    "            print(\"R\")\n",
    "        else\n",
    "            print(\"_\")\n",
    "        end\n",
    "    end\n",
    "    println()\n",
    "end\n",
    "map(pretty2, ops);"
   ]
  },
  {
   "cell_type": "markdown",
   "metadata": {},
   "source": [
    "Depending on your solver, you may get different solutions. When I tried earlier, I got\n",
    "```\n",
    "MUL_AE    SRR___________________________\n",
    "MUL_BF    _SRR__________________________\n",
    "MUL_CG    ____SRR_______________________\n",
    "MUL_DH    ___SRR________________________\n",
    "ADD_ABEF  ____RRSRR_____________________\n",
    "ADD_CDGH  ____RRRSRR____________________\n",
    "ADD_ALL   __________SRR_________________\n",
    "```\n",
    "Which is odd, because there are some `R` before the `S`. Have no fear: its simply because there is no reason not to set it 1, as we are not constrained at that time, and because solvers are very literal like that. We could fix that by either adding more constraints, or adding a small objective term to discourage setting `running` to 1 if it isn't needed:"
   ]
  },
  {
   "cell_type": "code",
   "execution_count": null,
   "metadata": {
    "collapsed": false
   },
   "outputs": [],
   "source": [
    "@setObjective(m, Min, sum{t*startat[:ADD_ALL,t],t=1:T} + 1e-5*sum(running))\n",
    "status = solve(m)\n",
    "@show status\n",
    "map(pretty2, ops);"
   ]
  },
  {
   "cell_type": "markdown",
   "metadata": {},
   "source": [
    "## Extension: Matrix-Vector Product"
   ]
  },
  {
   "cell_type": "code",
   "execution_count": null,
   "metadata": {
    "collapsed": false
   },
   "outputs": [],
   "source": [
    "# We are building kernel for 4x4 matrix * vector product, i.e.\n",
    "# [a11 a12 a13 a14] [x1]\n",
    "# [a21 a22 a23 a24] [x2] = A x\n",
    "# [a31 a32 a33 a34] [x3]\n",
    "# [a41 a42 a43 a44] [x4]\n",
    "# First, define an operation primitive\n",
    "immutable Operation\n",
    "    name::String  # User-friendly name for the operation\n",
    "    optype::Symbol  # Type of operation (:ADD,:MUL,:NOOP)\n",
    "    # Operations that must complete before this operation starts\n",
    "    depends::Vector  \n",
    "end\n",
    "\n",
    "# Each element of the result vector is a dot product\n",
    "# between a row of A and the vector x\n",
    "function make_dot_product(prefix)\n",
    "    Operation(prefix*\"ADDFINAL\", :ADD, [\n",
    "        Operation(prefix*\"ADD1\", :ADD, [\n",
    "            Operation(prefix*\"MUL1\", :MUL, []),\n",
    "            Operation(prefix*\"MUL2\", :MUL, [])\n",
    "        ]),\n",
    "        Operation(prefix*\"ADD2\", :ADD, [\n",
    "            Operation(prefix*\"MUL3\", :MUL, []),\n",
    "            Operation(prefix*\"MUL4\", :MUL, [])\n",
    "        ])\n",
    "    ])\n",
    "end\n",
    "final = Operation(\"MATVEC\",:NOOP,[\n",
    "#    make_dot_product(\"ROW1\"),\n",
    "#    make_dot_product(\"ROW2\"),\n",
    "    make_dot_product(\"ROW3\"),\n",
    "    make_dot_product(\"ROW4\")\n",
    "])\n",
    "\n",
    "# Collect all the operations into a vector so we\n",
    "# can index over them easier\n",
    "ops = Operation[]\n",
    "function collect_ops(op)\n",
    "    push!(ops, op)\n",
    "    map(collect_ops, op.depends)\n",
    "end\n",
    "collect_ops(final)\n",
    "@show length(ops)\n",
    "\n",
    "# Build model\n",
    "using JuMP\n",
    "#using Gurobi\n",
    "#m = Model(solver=GurobiSolver())\n",
    "using Cbc\n",
    "m = Model(solver=CbcSolver(seconds=180))\n",
    "T = 40\n",
    "L = 3\n",
    "C = 2\n",
    "@defVar(m, startat[op=ops,t=1:T], Bin)\n",
    "@defVar(m, running[op=ops,t=1:T], Bin)\n",
    "# Run all operations\n",
    "for op in ops\n",
    "    @addConstraint(m, sum{startat[op,t], t=1:T} == 1)\n",
    "end\n",
    "# At most one operation can start at each time\n",
    "for t in 1:T\n",
    "    @addConstraint(m, sum{startat[op,t], op=ops} <= 1)\n",
    "end\n",
    "# For each possible starting time for the dependent operations\n",
    "for t in 1:T-L\n",
    "    # For each operation\n",
    "    for op in ops\n",
    "        for before_op in op.depends\n",
    "            @addConstraint(m, startat[op,t] <= \n",
    "                sum{startat[before_op,s], s=1:t-L})\n",
    "        end\n",
    "    end\n",
    "end\n",
    "# Link running to startat\n",
    "for op in ops\n",
    "    # For each possible start time\n",
    "    for t in 1:T-L+1\n",
    "        # For the L units of time including that start time\n",
    "        for s in t:t+L-1\n",
    "            @addConstraint(m, running[op,s] >= startat[op,t])\n",
    "        end\n",
    "    end\n",
    "end\n",
    "# Can't do more than a certain number of ops at a time\n",
    "add_ops = filter(op->op.optype==:ADD, ops)\n",
    "mul_ops = filter(op->op.optype==:MUL, ops)\n",
    "for t in 1:T\n",
    "    # Multiplies\n",
    "    @addConstraint(m, sum{running[op,t],op=mul_ops} <= C)\n",
    "    # Adds\n",
    "    @addConstraint(m, sum{running[op,t],op=add_ops} <= C)\n",
    "end\n",
    "# Prioritize finish time\n",
    "@setObjective(m, Min, sum{t*startat[final,t],t=1:T} + 1e-5*sum(running))\n",
    "# How big is the problem?\n",
    "@show MathProgBase.numvar(m)\n",
    "@show MathProgBase.numconstr(m)\n",
    "# Solve it\n",
    "@time status = solve(m)\n",
    "@show status"
   ]
  },
  {
   "cell_type": "code",
   "execution_count": null,
   "metadata": {
    "collapsed": false
   },
   "outputs": [],
   "source": [
    "# Display it\n",
    "function pretty_matvec(op)\n",
    "    print(rpad(op.name,15,\" \"))\n",
    "    for t in 1:T\n",
    "        if iround(getValue(startat[op,t])) == 1\n",
    "            print(\"S\")\n",
    "        elseif iround(getValue(running[op,t])) == 1\n",
    "            print(\"R\")\n",
    "        else\n",
    "            print(\"_\")\n",
    "        end\n",
    "    end\n",
    "    println()\n",
    "end\n",
    "map(pretty_matvec, ops);"
   ]
  }
 ],
 "metadata": {
  "kernelspec": {
   "display_name": "Julia 0.3.7",
   "language": "julia",
   "name": "julia 0.3"
  },
  "language_info": {
   "name": "julia",
   "version": "0.3.7"
  }
 },
 "nbformat": 4,
 "nbformat_minor": 0
}
