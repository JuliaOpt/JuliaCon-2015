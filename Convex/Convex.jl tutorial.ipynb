{
 "cells": [
  {
   "cell_type": "markdown",
   "metadata": {
    "slideshow": {
     "slide_type": "slide"
    }
   },
   "source": [
    "# Convex Optimization in Julia\n",
    "\n",
    "## Madeleine Udell | JuliaCon 2015"
   ]
  },
  {
   "cell_type": "markdown",
   "metadata": {
    "slideshow": {
     "slide_type": "subslide"
    }
   },
   "source": [
    "## Convex.jl team\n",
    "\n",
    "* [Convex.jl](https://github.com/cvxgrp/Convex.jl): Madeleine Udell, Karanveer Mohan, David Zeng, Jenny Hong"
   ]
  },
  {
   "cell_type": "markdown",
   "metadata": {
    "slideshow": {
     "slide_type": "subslide"
    }
   },
   "source": [
    "## Collaborators/Inspiration:\n",
    "\n",
    "* [cvx](http://www.cvxr.com): Michael Grant, Stephen Boyd\n",
    "* [cvxpy](https://github.com/cvxgrp/cvxpy): Steven Diamond, Eric Chu, Stephen Boyd"
   ]
  },
  {
   "cell_type": "markdown",
   "metadata": {
    "slideshow": {
     "slide_type": "slide"
    }
   },
   "source": [
    "# Convex optimization"
   ]
  },
  {
   "cell_type": "markdown",
   "metadata": {
    "slideshow": {
     "slide_type": "subslide"
    }
   },
   "source": [
    "## Convexity\n",
    "\n",
    "* A **convex combination** of the points $x$ and $y$ is any point of the form \n",
    "$$\n",
    "\\theta x + (1-\\theta)y\n",
    "$$\n",
    "for $\\theta \\in [0,1]$.\n",
    "\n",
    "* A set $S$ is **convex** if for all $\\theta \\in [0,1]$, when $x \\in S$ and $y \\in S$, \n",
    "then $\\theta x + (1-\\theta)y \\in S$\n",
    "\n",
    "* A function $f$ is **convex** if for all $\\theta \\in [0,1]$,\n",
    "$$\n",
    "f(\\theta x + (1-\\theta)y ) \\leq \\theta f(x) + (1-\\theta) f(y).\n",
    "$$\n",
    "\n",
    "    equivalently, \n",
    "\n",
    "    * $f$ has nonnegative (upward) curvature\n",
    "    * the graph of $f$ never lies above its chords\n",
    "    * $f'' \\geq 0$ (if $f$ is differentiable)\n",
    "    * sublevel sets $\\{x : f(x) \\leq \\alpha\\}$ are convex\n",
    "\n",
    "<!--![chords](chord.png)-->\n",
    "\n",
    "A function $f$ is convex if convex combinations of points only get better (lower). \n",
    "        \n",
    "(We like to **minimize** functions.)"
   ]
  },
  {
   "cell_type": "code",
   "execution_count": null,
   "metadata": {
    "collapsed": false,
    "slideshow": {
     "slide_type": "skip"
    }
   },
   "outputs": [],
   "source": [
    "using Gadfly\n",
    "f(x) = x*x\n",
    "chord(x; a=-3, b=4) = if x<=b && x>=a return (f(b)-f(a))/(b-a)*(x-a) + f(a) else return NaN end\n",
    "p = plot([f,chord],-5,5)"
   ]
  },
  {
   "cell_type": "markdown",
   "metadata": {
    "slideshow": {
     "slide_type": "subslide"
    }
   },
   "source": [
    "## Convex optimization (nonlinear form)\n",
    "\n",
    "$$\n",
    "\\begin{array}{ll} \n",
    "\\mbox{minimize}  & f_0(x) \\\\\n",
    "\\mbox{subject to} & f_i(x) \\leq 0, \\quad i=1, \\ldots, m_1\\\\\n",
    "& h_i(x) = 0, \\quad i=1, \\ldots, m_2\\\\\n",
    "\\end{array}\n",
    "$$\n",
    "\n",
    "* variable $x\\in \\mathbf{R}^n$\n",
    "* $f_i$ are all convex\n",
    "* $h_i$ are all affine\n",
    "\n",
    "In other words, a problem is convex if convex combinations of feasible points \n",
    "\n",
    "1. are still feasible\n",
    "2. have better objective values"
   ]
  },
  {
   "cell_type": "markdown",
   "metadata": {
    "slideshow": {
     "slide_type": "subslide"
    }
   },
   "source": [
    "## Convex optimization (conic form)\n",
    "\n",
    "$$\n",
    "\\begin{array}{ll} \n",
    "\\mbox{minimize}  & c^T x \\\\\n",
    "    \\mbox{subject to} & Ax = b\\\\\n",
    "    & x \\in \\mathcal K\\\\\n",
    "\\end{array}\n",
    "$$\n",
    "\n",
    "where $\\mathcal K$ is a **convex cone**:\n",
    "* $ x \\in \\mathcal K$ iff $rx \\in \\mathcal K$ for any $r>0$\n",
    "\n",
    "examples:\n",
    "* positive orthant $\\mathcal K = \\{x: x_i >=0,~i=1,\\ldots,n\\}$\n",
    "* second order cone $\\mathcal K = \\{(x,t): \\|x\\|_2 \\leq t\\}$\n",
    "    * *aka* ice cream cone\n",
    "* positive semidefinite (PSD) cone $\\mathcal K = \\{X: X = X^T,~ v^T X v \\geq 0,~ \\forall v \\in \\mathbf{R}^n\\}$"
   ]
  },
  {
   "cell_type": "markdown",
   "metadata": {
    "slideshow": {
     "slide_type": "subslide"
    }
   },
   "source": [
    "## Why convex optimization?\n",
    "\n",
    "* beautiful, nearly complete theory\n",
    "    * duality, optimality conditions, ...\n",
    "* effective algorithms, methods (in theory and practice)\n",
    "    * get **global solution** (and optimality certificate)\n",
    "    * polynomial complexity\n",
    "* conceptual unification of many methods\n",
    "* useful even for nonconvex problems\n",
    "    * subroutine in larger algorithm (k-means, EM)\n",
    "    * bounds/heuristics for hard problems\n",
    "* lots of applications\n",
    "    * machine learning, statistics, control, finance, signal and image processing, vision, networking, ..."
   ]
  },
  {
   "cell_type": "markdown",
   "metadata": {},
   "source": [
    "# Convex.jl\n",
    "\n",
    "* write problems in nonlinear form\n",
    "* solve problems by calling (fast) conic form solvers"
   ]
  },
  {
   "cell_type": "code",
   "execution_count": null,
   "metadata": {
    "collapsed": false
   },
   "outputs": [],
   "source": [
    "# Make the Convex.jl module available\n",
    "using Convex, SCS\n",
    "set_default_solver(SCSSolver(verbose=0))\n",
    "\n",
    "# Generate random problem data\n",
    "m = 4;  n = 5\n",
    "A = randn(m, n); b = randn(m, 1)\n",
    "\n",
    "# Create a (column vector) variable of size n.\n",
    "x = Variable(n)\n",
    "\n",
    "# The problem is to minimize ||Ax - b||^2 subject to x >= 0\n",
    "# This can be done by: minimize(objective, constraints)\n",
    "problem = minimize(sumsquares(A * x - b), \n",
    "                   x >= 0)\n",
    "\n",
    "# Solve the problem by calling solve!\n",
    "solve!(problem)\n",
    "\n",
    "# Check the status of the problem\n",
    "println(\"problem status is \", problem.status) # :Optimal, :Infeasible, :Unbounded etc.\n",
    "\n",
    "# Get the optimum value\n",
    "println(\"optimal value is \", problem.optval)"
   ]
  },
  {
   "cell_type": "markdown",
   "metadata": {
    "slideshow": {
     "slide_type": "slide"
    }
   },
   "source": [
    "# Quick convex prototyping"
   ]
  },
  {
   "cell_type": "markdown",
   "metadata": {
    "slideshow": {
     "slide_type": "subslide"
    }
   },
   "source": [
    "## Variables"
   ]
  },
  {
   "cell_type": "code",
   "execution_count": null,
   "metadata": {
    "collapsed": false,
    "slideshow": {
     "slide_type": "fragment"
    }
   },
   "outputs": [],
   "source": [
    "# Scalar variable\n",
    "x = Variable()"
   ]
  },
  {
   "cell_type": "code",
   "execution_count": null,
   "metadata": {
    "collapsed": false,
    "slideshow": {
     "slide_type": "fragment"
    }
   },
   "outputs": [],
   "source": [
    "# (Column) vector variable\n",
    "y = Variable(4)"
   ]
  },
  {
   "cell_type": "code",
   "execution_count": null,
   "metadata": {
    "collapsed": false,
    "slideshow": {
     "slide_type": "fragment"
    }
   },
   "outputs": [],
   "source": [
    "# Matrix variable\n",
    "z = Variable(4, 2)"
   ]
  },
  {
   "cell_type": "markdown",
   "metadata": {
    "slideshow": {
     "slide_type": "subslide"
    }
   },
   "source": [
    "# Expressions"
   ]
  },
  {
   "cell_type": "markdown",
   "metadata": {
    "slideshow": {
     "slide_type": "subslide"
    }
   },
   "source": [
    "Convex.jl allows you to use a wide variety of [functions](http://convexjl.readthedocs.org/en/latest/operations.html) on variables and on expressions to form new expressions.\n",
    "\n",
    "### Definition\n",
    "* $f$ is **concave** $\\iff$ $-f$ is convex\n",
    "* $f$ is **affine** $\\iff$ $f$ is both convex and concave\n",
    "\n",
    "Recall a function $f$ is convex if convex combinations of points only get better (lower). (Because we like to *minimize* functions.)"
   ]
  },
  {
   "cell_type": "code",
   "execution_count": null,
   "metadata": {
    "collapsed": false,
    "slideshow": {
     "slide_type": "fragment"
    }
   },
   "outputs": [],
   "source": [
    "x + 2x"
   ]
  },
  {
   "cell_type": "code",
   "execution_count": null,
   "metadata": {
    "collapsed": false
   },
   "outputs": [],
   "source": [
    "x + y[1]"
   ]
  },
  {
   "cell_type": "code",
   "execution_count": null,
   "metadata": {
    "collapsed": false
   },
   "outputs": [],
   "source": [
    "x+y"
   ]
  },
  {
   "cell_type": "code",
   "execution_count": null,
   "metadata": {
    "collapsed": false,
    "slideshow": {
     "slide_type": "fragment"
    }
   },
   "outputs": [],
   "source": [
    "maximum(y)"
   ]
  },
  {
   "cell_type": "code",
   "execution_count": null,
   "metadata": {
    "collapsed": false
   },
   "outputs": [],
   "source": [
    "maximum(abs(y))"
   ]
  },
  {
   "cell_type": "code",
   "execution_count": null,
   "metadata": {
    "collapsed": false,
    "slideshow": {
     "slide_type": "fragment"
    }
   },
   "outputs": [],
   "source": [
    "minimum(y)"
   ]
  },
  {
   "cell_type": "code",
   "execution_count": null,
   "metadata": {
    "collapsed": false
   },
   "outputs": [],
   "source": [
    "minimum(abs(y))"
   ]
  },
  {
   "cell_type": "markdown",
   "metadata": {
    "slideshow": {
     "slide_type": "subslide"
    }
   },
   "source": [
    "# Constraints\n",
    "\n",
    "A constraint is convex if convex combinations of feasible points are also feasible. Equivalently, feasible sets are convex sets.\n",
    "\n",
    "In other words, convex constraints are of the form\n",
    "\n",
    "* `convexExpr <= 0`\n",
    "* `concaveExpr >= 0`\n",
    "* `affineExpr == 0`"
   ]
  },
  {
   "cell_type": "code",
   "execution_count": null,
   "metadata": {
    "collapsed": false,
    "slideshow": {
     "slide_type": "fragment"
    }
   },
   "outputs": [],
   "source": [
    "x <= 0"
   ]
  },
  {
   "cell_type": "code",
   "execution_count": null,
   "metadata": {
    "collapsed": false
   },
   "outputs": [],
   "source": [
    "x^2 <= 0"
   ]
  },
  {
   "cell_type": "code",
   "execution_count": null,
   "metadata": {
    "collapsed": false,
    "slideshow": {
     "slide_type": "fragment"
    }
   },
   "outputs": [],
   "source": [
    "x^2 <= sum(y)"
   ]
  },
  {
   "cell_type": "code",
   "execution_count": null,
   "metadata": {
    "collapsed": false,
    "slideshow": {
     "slide_type": "fragment"
    }
   },
   "outputs": [],
   "source": [
    "x^2 >= 1"
   ]
  },
  {
   "cell_type": "markdown",
   "metadata": {
    "slideshow": {
     "slide_type": "subslide"
    }
   },
   "source": [
    "# Problems"
   ]
  },
  {
   "cell_type": "code",
   "execution_count": null,
   "metadata": {
    "collapsed": false,
    "slideshow": {
     "slide_type": "fragment"
    }
   },
   "outputs": [],
   "source": [
    "x = Variable()\n",
    "y = Variable(4)\n",
    "objective = 2*x + 1 - sqrt(sum(y))\n",
    "constraint = x >= maximum(y)\n",
    "p = minimize(objective, constraint)"
   ]
  },
  {
   "cell_type": "code",
   "execution_count": null,
   "metadata": {
    "collapsed": false,
    "slideshow": {
     "slide_type": "fragment"
    }
   },
   "outputs": [],
   "source": [
    "# solve the problem\n",
    "solve!(p)\n",
    "p.status"
   ]
  },
  {
   "cell_type": "code",
   "execution_count": null,
   "metadata": {
    "collapsed": false,
    "slideshow": {
     "slide_type": "fragment"
    }
   },
   "outputs": [],
   "source": [
    "x.value"
   ]
  },
  {
   "cell_type": "code",
   "execution_count": null,
   "metadata": {
    "collapsed": false,
    "slideshow": {
     "slide_type": "subslide"
    }
   },
   "outputs": [],
   "source": [
    "# can evaluate expressions directly\n",
    "evaluate(objective)"
   ]
  },
  {
   "cell_type": "markdown",
   "metadata": {
    "slideshow": {
     "slide_type": "subslide"
    }
   },
   "source": [
    "## Problem variants\n",
    "\n",
    "* minimization problems \n",
    "    ````\n",
    "    minimize(objective, constraints)\n",
    "    ````\n",
    "* maximization problems \n",
    "    ````\n",
    "    maximize(objective, constraints)\n",
    "    ````\n",
    "* constraint satisfaction problems \n",
    "    ````\n",
    "    satisfy(constraints)\n",
    "    ````"
   ]
  },
  {
   "cell_type": "markdown",
   "metadata": {},
   "source": [
    "# Examples: least squares and friends"
   ]
  },
  {
   "cell_type": "markdown",
   "metadata": {
    "slideshow": {
     "slide_type": "subslide"
    }
   },
   "source": [
    "# Convex problems\n",
    "\n",
    "Convex.jl only solves convex optimization problems."
   ]
  },
  {
   "cell_type": "markdown",
   "metadata": {},
   "source": [
    "### How can you tell if a problem is convex?\n",
    "\n",
    "Let's write our optimization problem as\n",
    "$$\n",
    "\\begin{array}{ll} \n",
    "\\mbox{minimize}  & f(x) \\\\\n",
    "\\mbox{subject to} & x \\in \\mathcal C.\n",
    "\\end{array}\n",
    "$$\n",
    "\n",
    "Recall a problem is convex if convex combinations of feasible points only get better:\n",
    "that is, if $x \\in \\mathcal C$, $y \\in \\mathcal C \\implies$ \n",
    "* $(x+y)/2 \\in \\mathcal C$\n",
    "* $f((x+y)/2) \\leq f(x) + f(y)$"
   ]
  },
  {
   "cell_type": "markdown",
   "metadata": {},
   "source": [
    "To verify convexity, Convex.jl simply checks that \n",
    "\n",
    "* objective is\n",
    "    * `minimize(convexExpr)`\n",
    "    * `maximize(concaveExpr)`\n",
    "* constraints are\n",
    "    * `convexExpr <= 0`\n",
    "    * `concaveExpr >= 0`\n",
    "    * `affineExpr == 0`"
   ]
  },
  {
   "cell_type": "markdown",
   "metadata": {
    "slideshow": {
     "slide_type": "slide"
    }
   },
   "source": [
    "### How can you tell if an expression is convex?\n",
    "\n",
    "Use **disciplined convex programming:** Infer convexity of expressions by induction.\n",
    "\n",
    "* variables have known vexity (affine) and sign\n",
    "* library of atoms with known vexity and sign (as function of their arguments)\n",
    "\n",
    "More information at [dcp.stanford.edu](dcp.stanford.edu)"
   ]
  },
  {
   "cell_type": "markdown",
   "metadata": {
    "slideshow": {
     "slide_type": "slide"
    }
   },
   "source": [
    "## Convexity inference\n",
    "1. $f \\circ g(x)$ is convex in $x$ if\n",
    "    * $f$ is convex increasing and $g$ is convex \n",
    "    * $f$ is convex decreasing and $g$ is concave \n",
    "\n",
    "1. $f \\circ g(x)$ is concave in $x$ if\n",
    "    * $f$ is concave increasing and $g$ is concave \n",
    "    * $f$ is concave decreasing and $g$ is convex\n",
    "\n",
    "For smooth functions, derivation via chain rule:\n",
    "$$\n",
    "(f \\circ g)''(x) = f''(g(x))(g(x))^2 + f'(g(x))g''(x)\n",
    "$$\n",
    "\n",
    "example: \n",
    "* `+` is convex and increasing in its arguments\n",
    "* so `convexExpr + convexExpr` is convex"
   ]
  },
  {
   "cell_type": "markdown",
   "metadata": {
    "slideshow": {
     "slide_type": "subslide"
    }
   },
   "source": [
    "## Library of atoms\n",
    "\n",
    "See [the docs](http://convexjl.readthedocs.org/en/latest/operations.html)"
   ]
  },
  {
   "cell_type": "markdown",
   "metadata": {
    "slideshow": {
     "slide_type": "slide"
    }
   },
   "source": [
    "## DCP examples"
   ]
  },
  {
   "cell_type": "code",
   "execution_count": null,
   "metadata": {
    "collapsed": false,
    "slideshow": {
     "slide_type": "subslide"
    }
   },
   "outputs": [],
   "source": [
    "# affine\n",
    "x = Variable(4)\n",
    "y = Variable (2)"
   ]
  },
  {
   "cell_type": "code",
   "execution_count": null,
   "metadata": {
    "collapsed": false
   },
   "outputs": [],
   "source": [
    "2*maximum(x) + 4*sum(y) - sqrt(y[1] + x[1]) - 7 * minimum(x[2:4])"
   ]
  },
  {
   "cell_type": "code",
   "execution_count": null,
   "metadata": {
    "collapsed": false,
    "slideshow": {
     "slide_type": "subslide"
    }
   },
   "outputs": [],
   "source": [
    "# not dcp compliant\n",
    "sqrt(x) + x^2"
   ]
  },
  {
   "cell_type": "code",
   "execution_count": null,
   "metadata": {
    "collapsed": false,
    "slideshow": {
     "slide_type": "subslide"
    }
   },
   "outputs": [],
   "source": [
    "# $f$ is convex increasing and $g$ is convex\n",
    "square(pos(x))"
   ]
  },
  {
   "cell_type": "code",
   "execution_count": null,
   "metadata": {
    "collapsed": false,
    "slideshow": {
     "slide_type": "subslide"
    }
   },
   "outputs": [],
   "source": [
    "# $f$ is convex decreasing and $g$ is concave \n",
    "invpos(sqrt(x))"
   ]
  },
  {
   "cell_type": "code",
   "execution_count": null,
   "metadata": {
    "collapsed": false,
    "slideshow": {
     "slide_type": "subslide"
    }
   },
   "outputs": [],
   "source": [
    "# $f$ is concave increasing and $g$ is concave \n",
    "sqrt(sqrt(x))"
   ]
  },
  {
   "cell_type": "markdown",
   "metadata": {
    "slideshow": {
     "slide_type": "slide"
    }
   },
   "source": [
    "# How does it work?\n",
    "\n",
    "* construct abstract syntax tree\n",
    "* parse to canonical form\n",
    "* pass to solver"
   ]
  },
  {
   "cell_type": "markdown",
   "metadata": {
    "slideshow": {
     "slide_type": "subslide"
    }
   },
   "source": [
    "## Construct abstract syntax tree\n",
    "\n",
    "(done automatically during parsing)\n",
    "\n",
    "* for objective\n",
    "* for each constraint\n",
    "\n",
    "example:\n",
    "\n",
    "    pos(sum(x)) + 1 = (:+, [(:pos, [(:sum, [x])]), 1])"
   ]
  },
  {
   "cell_type": "markdown",
   "metadata": {
    "slideshow": {
     "slide_type": "subslide"
    }
   },
   "source": [
    "## Parse to canonical form: introduce new variables\n",
    "\n",
    "one atom per constraint\n",
    "$$\n",
    "\\begin{array}{ll}\n",
    "v_1 &=& sum(x) \\\\\n",
    "v_2 &=& pos(v_1) \\\\\n",
    "v_3 &=& v_2 + 1 \\\\\n",
    "\\end{array}\n",
    "$$"
   ]
  },
  {
   "cell_type": "markdown",
   "metadata": {
    "slideshow": {
     "slide_type": "subslide"
    }
   },
   "source": [
    "## Parse to canonical form: relax convex constraints\n",
    "\n",
    "problem is convex $\\implies$ relaxation is tight at solution\n",
    "\n",
    "$$\n",
    "\\begin{array}{ll}\n",
    "v_1 &=& sum(x) \\\\\n",
    "v_2 &\\geq& pos(v_1) \\\\\n",
    "v_3 &=& v_2 + 1 \\\\\n",
    "\\end{array}\n",
    "$$"
   ]
  },
  {
   "cell_type": "markdown",
   "metadata": {},
   "source": [
    "## Parse to canonical form: canonicalize\n",
    "\n",
    "every atom has a canonical conic form\n",
    "\n",
    "* $v_1 = sum(x)$ becomes $v_1 = 1^T x$\n",
    "* $v_2 \\geq pos(v_1)$ becomes \n",
    "    * $v_2 \\in \\mathcal K_+$\n",
    "    * $v_2 - v_1 = v_4$\n",
    "    * $v_4 \\in \\mathcal K_+$\n",
    "\n",
    "$$\n",
    "\\begin{array}{ll}\n",
    "v_1 &=& 1^T x \\\\\n",
    "v_2 - v_1 &=& v_4 \\\\\n",
    "v_2 &\\in& \\mathcal K_+ \\\\\n",
    "v_4 &\\in& \\mathcal K_+ \\\\\n",
    "v_3 &=& v_2 + 1 \\\\\n",
    "\\end{array}\n",
    "$$"
   ]
  },
  {
   "cell_type": "code",
   "execution_count": null,
   "metadata": {
    "collapsed": false,
    "slideshow": {
     "slide_type": "subslide"
    }
   },
   "outputs": [],
   "source": [
    "## In code\n",
    "conic_problem(minimize(sumsquares(A*x-b), x>=0))"
   ]
  },
  {
   "cell_type": "markdown",
   "metadata": {
    "slideshow": {
     "slide_type": "subslide"
    }
   },
   "source": [
    "## Conic form\n",
    "\n",
    "problem is now in standard conic form\n",
    "$$\n",
    "\\begin{array}{ll} \n",
    "\\mbox{minimize}  & c^T x \\\\\n",
    "    \\mbox{subject to} & Ax = b\\\\\n",
    "    & x \\in \\mathcal K\\\\\n",
    "\\end{array}\n",
    "$$\n",
    "\n",
    "* $\\mathcal K = $ positive orthant $\\implies$ linear program\n",
    "* $\\mathcal K = $ second order cone $\\implies$ SOCP\n",
    "* $\\mathcal K = $ semidefinite cone $\\implies$ SDP\n",
    "* $\\mathcal K = $ exponential cone $\\implies$ exponential cone program"
   ]
  },
  {
   "cell_type": "markdown",
   "metadata": {},
   "source": [
    "## Pass to solver\n",
    "\n",
    "call a `MathProgBase` solver suited for your problem class\n",
    "\n",
    "* see the [list of Convex.jl operations](http://convexjl.readthedocs.org/en/latest/operations.html) to find which cones you're using\n",
    "* see the [list of solvers](http://www.juliaopt.org/) for an up-to-date list of solvers and which cones they support"
   ]
  },
  {
   "cell_type": "markdown",
   "metadata": {},
   "source": [
    "to solve problem using a different solver, just import the solver package and pass the solver to the `solve!` method: eg\n",
    "\n",
    "    using Mosek\n",
    "    solve!(p, MosekSolver())"
   ]
  }
 ],
 "metadata": {
  "kernelspec": {
   "display_name": "Julia 0.3.8",
   "language": "julia",
   "name": "julia-0.3"
  },
  "language_info": {
   "name": "julia",
   "version": "0.3.8"
  }
 },
 "nbformat": 4,
 "nbformat_minor": 0
}
